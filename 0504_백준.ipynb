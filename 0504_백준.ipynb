{
  "nbformat": 4,
  "nbformat_minor": 0,
  "metadata": {
    "colab": {
      "provenance": [],
      "authorship_tag": "ABX9TyP6nfNIwhT9/zneP+uhNC8B",
      "include_colab_link": true
    },
    "kernelspec": {
      "name": "python3",
      "display_name": "Python 3"
    },
    "language_info": {
      "name": "python"
    }
  },
  "cells": [
    {
      "cell_type": "markdown",
      "metadata": {
        "id": "view-in-github",
        "colab_type": "text"
      },
      "source": [
        "<a href=\"https://colab.research.google.com/github/Yu-jiwon/python-coding-test-study/blob/main/0504_%EB%B0%B1%EC%A4%80.ipynb\" target=\"_parent\"><img src=\"https://colab.research.google.com/assets/colab-badge.svg\" alt=\"Open In Colab\"/></a>"
      ]
    },
    {
      "cell_type": "code",
      "execution_count": 6,
      "metadata": {
        "colab": {
          "base_uri": "https://localhost:8080/"
        },
        "id": "1um1kXnO2jlV",
        "outputId": "7a2a9dc1-e866-4c98-cfe3-c070a1ab0786"
      },
      "outputs": [
        {
          "output_type": "stream",
          "name": "stdout",
          "text": [
            "3\n",
            "5 1 2\n",
            "4\n"
          ]
        }
      ],
      "source": [
        "#[백준] 14225 - 부분수열의 합 \n",
        "n = int(input())\n",
        "num = list(map(int,input().split()))\n",
        "visited = [0]*10000000\n",
        "\n",
        "def dfs(idx,sum) :\n",
        "    if idx == n :\n",
        "       return\n",
        "    sum += num[idx]\n",
        "    visited[sum] = 1\n",
        "    dfs(idx+1, sum)\n",
        "    dfs(idx+1, sum-num[idx])\n",
        "\n",
        "dfs(0,0)\n",
        "print(visited[1:].index(0)+1)"
      ]
    },
    {
      "cell_type": "code",
      "source": [
        "#[백준] 3085 - 사탕 게임 \n",
        "n = int(input())\n",
        "gragh=[list(input()) for _ in range(n)]\n",
        "cnt=0\n",
        "\n",
        "def check():\n",
        "  global cnt\n",
        "  for i in range(n):\n",
        "    c=1\n",
        "    for j in range(1,n):\n",
        "      if gragh[i][j]==gragh[i][j-1]:\n",
        "        c+=1\n",
        "        cnt=max(c,cnt)\n",
        "      else:\n",
        "        c=1\n",
        "    c=1\n",
        "    for j in range(1,n):\n",
        "      if gragh[j][i]==gragh[j-1][i]:\n",
        "        c+=1\n",
        "        cnt=max(c,cnt)\n",
        "      else:\n",
        "        c=1\n",
        "for i in range(n):\n",
        "  for j in range(n):\n",
        "    if j+1<n:\n",
        "      gragh[i][j], gragh[i][j+1]=gragh[i][j+1], gragh[i][j]\n",
        "      check()\n",
        "      gragh[i][j], gragh[i][j+1]=gragh[i][j+1], gragh[i][j]\n",
        "    if i+1<n:\n",
        "      gragh[i][j], gragh[i+1][j]=gragh[i+1][j], gragh[i][j]\n",
        "      check()\n",
        "      gragh[i][j], gragh[i+1][j]=gragh[i+1][j], gragh[i][j]\n",
        "\n",
        "print(cnt)"
      ],
      "metadata": {
        "colab": {
          "base_uri": "https://localhost:8080/"
        },
        "id": "x7XVMezF2ljZ",
        "outputId": "bae4edc7-177a-4455-bb28-df9782726f12"
      },
      "execution_count": 7,
      "outputs": [
        {
          "output_type": "stream",
          "name": "stdout",
          "text": [
            "3\n",
            "CCP\n",
            "CCP\n",
            "PPC\n",
            "3\n"
          ]
        }
      ]
    },
    {
      "cell_type": "code",
      "source": [
        "#[백준] 2961 - 도영이가 만든 맛있는 음식\n",
        "n = int(input())\n",
        "gragh=[list(map(int, input().split())) for i in range(n)]\n",
        "arr=[]\n",
        "result=1<<100\n",
        "\n",
        "def dfs(d,s):\n",
        "  global result\n",
        "  if d==len_:\n",
        "    lemon=1\n",
        "    bad=0\n",
        "    for i in arr:\n",
        "      lemon *=i[0]\n",
        "      bad+= i[1]\n",
        "      if abs(bad-lemon)<result:\n",
        "        result=abs(bad-lemon)\n",
        "    return\n",
        "  for i in range(s,n):\n",
        "    arr.append(gragh[i])\n",
        "    dfs(d+1,i+1)\n",
        "    arr.pop()\n",
        "\n",
        "for i in range(1,n+1):\n",
        "  len_=i\n",
        "  dfs(0,0)\n",
        "\n",
        "print(result)"
      ],
      "metadata": {
        "colab": {
          "base_uri": "https://localhost:8080/"
        },
        "id": "YZfRg8692sjB",
        "outputId": "435bebc3-f1a9-48ef-aac0-36eab538b395"
      },
      "execution_count": 9,
      "outputs": [
        {
          "output_type": "stream",
          "name": "stdout",
          "text": [
            "1\n",
            "3 10\n",
            "7\n"
          ]
        }
      ]
    },
    {
      "cell_type": "code",
      "source": [
        "#[백준] 1969 - DNA\n",
        "n,m = map(int, input().split())\n",
        "dna=[]\n",
        "for _ in range(n):\n",
        "  dna.append(input())\n",
        "\n",
        "cnt=0\n",
        "result=''\n",
        "for i in range(m):\n",
        "  count=[0,0,0,0]\n",
        "  for j in range(n):\n",
        "    if dna[j][i]=='A':\n",
        "      count[0]+=1\n",
        "    elif dna[j][i]=='C':\n",
        "      count[1]+=1\n",
        "    elif dna[j][i]=='G':\n",
        "      count[2]+=1\n",
        "    elif dna[j][i]=='T':\n",
        "      count[3]+=1\n",
        "  idx=count.index(max(count))\n",
        "  if idx==0:\n",
        "    result+='A'\n",
        "  elif idx==1:\n",
        "    result+='C'\n",
        "  elif idx==2:\n",
        "    result+='G'\n",
        "  elif idx==3:\n",
        "    result+='T'\n",
        "  cnt+= n-max(count)\n",
        "print(result)\n",
        "print(cnt)"
      ],
      "metadata": {
        "colab": {
          "base_uri": "https://localhost:8080/"
        },
        "id": "9a5C0Jsl2vbE",
        "outputId": "d6a08093-8ef8-4bf1-d0fe-7c2664882c68"
      },
      "execution_count": 10,
      "outputs": [
        {
          "output_type": "stream",
          "name": "stdout",
          "text": [
            "5 8\n",
            "TATGATAC\n",
            "TAAGCTAC\n",
            "AAAGATCC\n",
            "TGAGATAC\n",
            "TAAGATGT\n",
            "TAAGATAC\n",
            "7\n"
          ]
        }
      ]
    },
    {
      "cell_type": "code",
      "source": [
        "#[백준] 1747 - 소수&팰린드롬\n",
        "import math\n",
        "n = int(input())\n",
        "\n",
        "def prime(x):\n",
        "    for i in range(2,int(math.sqrt(x)+1)):\n",
        "        if x%i==0:\n",
        "            return False\n",
        "    return True\n",
        "result=0\n",
        "for num in range(n,1000001):\n",
        "    if num==1:\n",
        "        continue\n",
        "    if str(num)==str(num)[::-1]:\n",
        "        if prime(num)==True:\n",
        "            result=num\n",
        "            break\n",
        "\n",
        "if result==0:\n",
        "    result=1003001\n",
        "    \n",
        "print(result)"
      ],
      "metadata": {
        "colab": {
          "base_uri": "https://localhost:8080/"
        },
        "id": "n8TJA1Pt2zAZ",
        "outputId": "a8a86160-b0ab-4508-cf7f-b19720855b37"
      },
      "execution_count": 12,
      "outputs": [
        {
          "output_type": "stream",
          "name": "stdout",
          "text": [
            "31\n",
            "101\n"
          ]
        }
      ]
    },
    {
      "cell_type": "code",
      "source": [
        "#[백준] 9996 - 한국이 그리울 땐 서버에 접속하지\n",
        "n = int(input())\n",
        "p = input().split('*')\n",
        "leng=len(p[0])+len(p[1])\n",
        "\n",
        "for _ in range(n):\n",
        "  file=input()\n",
        "  if leng>len(file):\n",
        "    print('NE')\n",
        "  else:\n",
        "    if p[0]==file[:len(p[0])] and p[1]==file[-len(p[1]):]:\n",
        "      print(\"DA\")\n",
        "    else:\n",
        "      print(\"NE\")"
      ],
      "metadata": {
        "colab": {
          "base_uri": "https://localhost:8080/"
        },
        "id": "RnKsDRkJ28v0",
        "outputId": "fa6840f7-a739-4463-c51d-d32f42f2a960"
      },
      "execution_count": 11,
      "outputs": [
        {
          "output_type": "stream",
          "name": "stdout",
          "text": [
            "3\n",
            "a*d\n",
            "abcd\n",
            "DA\n",
            "anestonestod\n",
            "DA\n",
            "facebook\n",
            "NE\n"
          ]
        }
      ]
    }
  ]
}