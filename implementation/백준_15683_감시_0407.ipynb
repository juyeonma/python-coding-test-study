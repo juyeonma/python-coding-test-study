{
 "cells": [
  {
   "attachments": {},
   "cell_type": "markdown",
   "metadata": {},
   "source": [
    "# 백준_15683_감시_0407: 골드 5 (23.04.06 풀이)"
   ]
  },
  {
   "attachments": {},
   "cell_type": "markdown",
   "metadata": {},
   "source": [
    "## 풀이방법\n",
    "- 모든 경우의 수를 다 살핀다? -> 완전탐색\n",
    "- DFS를 사용\n",
    "- 1. 사각지대를 세는 방법\n",
    "    - cctv의 개수만큼 dfs의 깊이를 설정한다.\n",
    "    - cctv 번호별로 가능한 회전 방향이 다르므로, 이를 미리 dictionary로 만든다.\n",
    "    - watch 함수: 특정 좌표에서 가능한 회전 방향의 감시 구역을 표시한다.\n",
    "    - dfs 함수에서, 모든 cctv를 돌면서 각 cctv 번호를 watch 함수에 넣어 감시 구역을 표시한다. 모든 cctv를 돌았을 때, 사각지대(0인 칸)의 최솟값으로 갱신한다.\n",
    "- 2. 초기 빈칸 - 감시 구역 = 사각지대를 세는 방법\n",
    "    - set을 이용하여(중복 제거) 각 cctv 번호별로 감시 구역을 센다.\n",
    "    - 모든 감시구역의 수의 max을 구해서, 초기 빈칸에서 뺸다."
   ]
  },
  {
   "attachments": {},
   "cell_type": "markdown",
   "metadata": {},
   "source": [
    "## 코드\n",
    "### 1번 방법: 성공"
   ]
  },
  {
   "cell_type": "code",
   "execution_count": null,
   "metadata": {},
   "outputs": [],
   "source": [
    "import sys\n",
    "input = sys.stdin.readline\n",
    "\n",
    "office = []\n",
    "cctv = []\n",
    "\n",
    "n, m = map(int, input().split())\n",
    "\n",
    "for i in range(n):\n",
    "    office.append(list(map(int, input().split())))\n",
    "    for j in range(m):\n",
    "        if 0 < office[i][j] < 6:\n",
    "            cctv.append([office[i][j], i, j])\n",
    "\n",
    "len_cctv = len(cctv)\n",
    "\n",
    "# 북 동 남 서\n",
    "dx = [-1, 0, 1, 0]\n",
    "dy = [0, 1, 0, -1]\n",
    "\n",
    "# 1: 1방향 2: 2방향(반대편) 3: 2방향(90도) 4: 3방향 5: 4방향\n",
    "rotate = {1: [[0], [1], [2], [3]], \n",
    "          2: [[0, 2], [1, 3]], \n",
    "          3: [[0, 1], [1, 2], [2, 3], [3, 0]], \n",
    "          4: [[0, 1, 2], [1, 2, 3], [2, 3, 0], [3, 0, 1]], \n",
    "          5: [[0, 1, 2, 3]]}\n",
    "\n",
    "def watch(x, y, dir, office):\n",
    "    for i in dir:\n",
    "        nx, ny = x, y\n",
    "        while 0 <= nx < n and 0 <= ny < m and office[nx][ny] != 6:\n",
    "            if office[nx][ny] == 0:\n",
    "                office[nx][ny] = 7\n",
    "            nx += dx[i]\n",
    "            ny += dy[i]\n",
    "            \n",
    "def dfs(depth, office):\n",
    "    global answer\n",
    "    if depth == len_cctv:\n",
    "        cnt = 0\n",
    "        # office의 0의 갯수\n",
    "        for i in office:\n",
    "            cnt += i.count(0)\n",
    "        answer = min(answer, cnt)\n",
    "        return\n",
    "\n",
    "    value, x, y = cctv[depth]\n",
    "    for dir in rotate[value]:\n",
    "        copy_office = [i[:] for i in office]\n",
    "        # cctv 작동!\n",
    "        watch(x, y, dir, copy_office)\n",
    "        dfs(depth+1, copy_office)\n",
    "    \n",
    "answer = 1e9\n",
    "dfs(0, office)\n",
    "print(answer)"
   ]
  },
  {
   "attachments": {},
   "cell_type": "markdown",
   "metadata": {},
   "source": [
    "### 2번 방법: set을 이용하여 빈칸 - 감시구역. 가장 빠름!!(112ms)\n",
    "- 출처: https://ryu-e.tistory.com/93\n",
    "- set을 잘 활용하지를 못하겠다. 어려운 코드는 아닌데.. set 공부하자!!"
   ]
  },
  {
   "cell_type": "code",
   "execution_count": null,
   "metadata": {},
   "outputs": [],
   "source": [
    "def watch(x, y, dir):\n",
    "    \"\"\"\n",
    "    해당 방향으로 보기\n",
    "    :return:\n",
    "    \"\"\"\n",
    "    set_ = set()\n",
    "    for d in dir:\n",
    "        nx, ny = x, y\n",
    "        while True:\n",
    "            nx += dx[d]\n",
    "            ny += dy[d]\n",
    "            if nx < 0 or ny < 0 or nx >= n or ny >= m:  # 범위 넘어가면 그만 탐색\n",
    "                break\n",
    "            if graph[nx][ny] == 6:                      # 벽이면 그만 탐색\n",
    "                break\n",
    "            if graph[nx][ny] == 0:\n",
    "                set_.add((nx, ny))\n",
    "    return set_\n",
    "\n",
    "def dfs(count, all_):\n",
    "    \"\"\"\n",
    "    백트래킹으로 모든 방향 조합\n",
    "    :return:\n",
    "    \"\"\"\n",
    "    global  max_\n",
    "    if count == len(cctv_watch):  # 최댓값인지 확인하기\n",
    "        max_ = max(max_, len(all_))\n",
    "        return\n",
    "\n",
    "    for i in cctv_watch[count]:\n",
    "        dfs(count + 1, all_.union(i))\n",
    "\n",
    "# 북, 동, 남, 서\n",
    "dx = [-1, 0, 1, 0]\n",
    "dy = [0, 1, 0, -1]\n",
    "\n",
    "n, m = map(int, input().split()) # 세로, 가로\n",
    "graph = [list(map(int, input().split())) for _ in range(n)]\n",
    "cctv_watch = list()   # 각 cctv가 확인 가능한 좌표를 저장\n",
    "zero = 0\n",
    "max_ = 0\n",
    "\n",
    "for i in range(n):\n",
    "    for j in range(m):\n",
    "        if graph[i][j] == 0:\n",
    "            zero += 1\n",
    "                # 각 cctv가 확인 가능한 좌표를 모두 확인 \n",
    "        if graph[i][j] == 1:    # 한 방향, 4가지 경우 존재\n",
    "            cctv_watch.append([watch(i, j, [0]), watch(i, j, [1]), watch(i, j, [2]), watch(i, j, [3])])\n",
    "        elif graph[i][j] == 2:  # 서로 반대 방향\n",
    "            cctv_watch.append([watch(i, j, [0, 2]), watch(i, j, [1, 3])])\n",
    "        elif graph[i][j] == 3:  # 직각\n",
    "            cctv_watch.append([watch(i, j, [0, 1]), watch(i, j, [1, 2]), watch(i, j, [2, 3]), watch(i, j, [3, 0])])\n",
    "        elif graph[i][j] == 4:  # 3 방향\n",
    "            cctv_watch.append([watch(i, j, [0, 1, 2]), watch(i, j, [1, 2, 3]), watch(i, j, [2, 3, 0]),  watch(i, j, [3, 0, 1])])\n",
    "        elif graph[i][j] == 5:  # 4방향\n",
    "            cctv_watch.append([watch(i, j, [0, 1, 2, 3])])\n",
    "\n",
    "dfs(0, set())\n",
    "print(zero - max_)"
   ]
  },
  {
   "attachments": {
    "image.png": {
     "image/png": "[encoded data removed]"
    }
   },
   "cell_type": "markdown",
   "metadata": {},
   "source": [
    "## 결과\n",
    "![image.png](attachment:image.png)"
   ]
  }
 ],
 "metadata": {
  "kernelspec": {
   "display_name": "base",
   "language": "python",
   "name": "python3"
  },
  "language_info": {
   "codemirror_mode": {
    "name": "ipython",
    "version": 3
   },
   "file_extension": ".py",
   "mimetype": "text/x-python",
   "name": "python",
   "nbconvert_exporter": "python",
   "pygments_lexer": "ipython3",
   "version": "3.10.9"
  },
  "orig_nbformat": 4
 },
 "nbformat": 4,
 "nbformat_minor": 2
}
