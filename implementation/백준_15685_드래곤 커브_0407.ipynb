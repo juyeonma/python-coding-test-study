{
 "cells": [
  {
   "attachments": {},
   "cell_type": "markdown",
   "metadata": {},
   "source": [
    "# 백준_15685_드래곤 커브_0407: 골드 4 (23.04.05 풀이)"
   ]
  },
  {
   "attachments": {},
   "cell_type": "markdown",
   "metadata": {},
   "source": [
    "## 풀이방법\n",
    "- 문제에서는 column을 x로, row를 y로 표기했지만.. 상식대로 row를 x로, column을 y로 할당(그래도 답은 똑같음)\n",
    "- 시계방향으로 90도 회전하는건, 방향 index +1 하는것과 같다\n",
    "```\n",
    "아래, 왼쪽, 위, 오른쪽\n",
    "↓ ← ↑ →\n",
    "\n",
    "처음에 ↓ 였다면, 그 다음 방향은 ←\n",
    "```\n",
    "- `(d+1)%4`로 모든 방향을 다 list로 만든 뒤에, x, y에 더해가면서 graph에 추가하면 된다.\n",
    "- 사각형은 네 모서리가 있을 경우: x y, x y+1, x+1 y, x+1 y+1 에 답에 +1 한다."
   ]
  },
  {
   "attachments": {},
   "cell_type": "markdown",
   "metadata": {},
   "source": [
    "## 코드"
   ]
  },
  {
   "cell_type": "code",
   "execution_count": null,
   "metadata": {},
   "outputs": [
    {
     "name": "stdout",
     "output_type": "stream",
     "text": [
      "10\n"
     ]
    }
   ],
   "source": [
    "import sys\n",
    "input = sys.stdin.readline\n",
    "\n",
    "# 0 <= x와 y <= 100\n",
    "graph = [[False] * 101 for _ in range(101)]\n",
    "\n",
    "# 아래, 왼쪽, 위, 오른쪽\n",
    "dx = [1, 0, -1, 0]\n",
    "dy = [0, -1, 0, 1]\n",
    "\n",
    "for _ in range(int(input())):\n",
    "    # x, y 좌표, d 방향, g 세대\n",
    "    x, y, d, g = map(int, input().split())\n",
    "    \n",
    "    graph[x][y] = True\n",
    "    dir = [d]\n",
    "    \n",
    "    for _ in range(g):\n",
    "        for d in reversed(dir):\n",
    "            # 90도 회전: dx, dy에서 index +1 하면 된당\n",
    "            dir.append((d+1)%4)\n",
    "    \n",
    "    for d in dir:\n",
    "        x += dx[d]\n",
    "        y += dy[d]\n",
    "\n",
    "        graph[x][y] = True\n",
    "\n",
    "\n",
    "'''\n",
    "# 매번 방향을 계산한다면,\n",
    "\n",
    "for _ in range(int(input())):\n",
    "    # x, y 좌표, d 방향, g 세대\n",
    "    x, y, d, g = map(int, input().split())\n",
    "    \n",
    "    nx = x + dx[d]\n",
    "    ny = y + dy[d]\n",
    "    \n",
    "    graph[x][y], graph[nx][ny] = True, True\n",
    "    dir = [d]\n",
    "    \n",
    "    for i in range(g):\n",
    "        # 2의 n승씩 증가\n",
    "        for j in range(2**i-1, -1, -1):\n",
    "            # 90도 회전: dx, dy에서 index +1 하면 된당\n",
    "            d = (dir[j] + 1) % 4\n",
    "            \n",
    "            nx += dx[d]\n",
    "            ny += dy[d]\n",
    "\n",
    "            graph[nx][ny] = True\n",
    "                \n",
    "            dir.append(d)\n",
    "'''\n",
    "\n",
    "answer = 0\n",
    "for i in range(100):\n",
    "    for j in range(100):\n",
    "        # 네 모서리가 있을 경우: x y, x y+1, x+1 y, x+1 y+1\n",
    "        if graph[i][j] and graph[i][j+1] and graph[i+1][j] and graph[i+1][j+1]:\n",
    "            answer += 1\n",
    "print(answer)"
   ]
  },
  {
   "attachments": {},
   "cell_type": "markdown",
   "metadata": {},
   "source": [
    "## 결과  \n",
    "![](https://velog.velcdn.com/images/juyeonma9/post/a3a535ce-5e86-4610-b08b-fe27c57cefc6/image.png)\n"
   ]
  }
 ],
 "metadata": {
  "kernelspec": {
   "display_name": "base",
   "language": "python",
   "name": "python3"
  },
  "language_info": {
   "codemirror_mode": {
    "name": "ipython",
    "version": 3
   },
   "file_extension": ".py",
   "mimetype": "text/x-python",
   "name": "python",
   "nbconvert_exporter": "python",
   "pygments_lexer": "ipython3",
   "version": "3.10.9"
  },
  "orig_nbformat": 4
 },
 "nbformat": 4,
 "nbformat_minor": 2
}
