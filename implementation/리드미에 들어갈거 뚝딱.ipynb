{
 "cells": [
  {
   "attachments": {},
   "cell_type": "markdown",
   "metadata": {},
   "source": [
    "## readme에 들어갈거 뚝딱"
   ]
  },
  {
   "cell_type": "code",
   "execution_count": 5,
   "metadata": {},
   "outputs": [
    {
     "name": "stdout",
     "output_type": "stream",
     "text": [
      "|17413_단어 뒤집기 2|실버 3|||[백준](https://www.acmicpc.net/problem/17413)|[깃허브](./백준_17413_단어%20뒤집기%202_0301.md)|\n",
      "|20291_파일 정리|실버 3|||[백준](https://www.acmicpc.net/problem/20291)|[깃허브](./백준_20291_파일%20정리_0301.md)|\n",
      "|17276_배열 돌리기|실버 2|||[백준](https://www.acmicpc.net/problem/17276)|[깃허브](./백준_17276_배열%20돌리기_0301.md)|\n",
      "|15787_기차가 어둠을 헤치고 은하수를|실버 2|||[백준](https://www.acmicpc.net/problem/15787)|[깃허브](./백준_15787_기차가%20어둠을%20헤치고%20은하수를_0301.md)|\n",
      "|2615_오목|실버 1|||[백준](https://www.acmicpc.net/problem/2615)|[깃허브](./백준_2615_오목_0301.md)|\n",
      "|16926_배열 돌리기 1|실버 1|||[백준](https://www.acmicpc.net/problem/16926)|[깃허브](./백준_16926_배열%20돌리기%201_0301.md)|\n",
      "|21608_상어 초등학교|골드 5|||[백준](https://www.acmicpc.net/problem/21608)|[깃허브](./백준_21608_상어%20초등학교_0301.md)|\n",
      "|16927_배열 돌리기 2|골드 5|||[백준](https://www.acmicpc.net/problem/16927)|[깃허브](./백준_16927_배열%20돌리기%202_0301.md)|\n",
      "|17406_배열 돌리기 4|골드 4|||[백준](https://www.acmicpc.net/problem/17406)|[깃허브](./백준_17406_배열%20돌리기%204_0301.md)|\n",
      "|22858_원상 복구 (small)|실버 3|||[백준](https://www.acmicpc.net/problem/22858)|[깃허브](./백준_22858_원상%20복구%20(small)_0301.md)|\n",
      "|17128_소가 정보섬에 올라온 이유|실버 3|||[백준](https://www.acmicpc.net/problem/17128)|[깃허브](./백준_17128_소가%20정보섬에%20올라온%20이유_0301.md)|\n",
      "|15886_내 선물을 받아줘 2|실버 3|||[백준](https://www.acmicpc.net/problem/15886)|[깃허브](./백준_15886_내%20선물을%20받아줘%202_0301.md)|\n",
      "|1283_단축키 지정|실버 1|||[백준](https://www.acmicpc.net/problem/1283)|[깃허브](./백준_1283_단축키%20지정_0301.md)|\n",
      "|10703_유성|실버 1|||[백준](https://www.acmicpc.net/problem/10703)|[깃허브](./백준_10703_유성_0301.md)|\n",
      "|9081_단어 맞추기|실버 1|||[백준](https://www.acmicpc.net/problem/9081)|[깃허브](./백준_9081_단어%20맞추기_0301.md)|\n"
     ]
    }
   ],
   "source": [
    "aa = ['17413/단어 뒤집기 2/실버 3',\n",
    "'20291/파일 정리/실버 3',\n",
    "'17276/배열 돌리기/실버 2',\n",
    "'15787/기차가 어둠을 헤치고 은하수를/실버 2',\n",
    "'2615/오목/실버 1',\n",
    "'16926/배열 돌리기 1/실버 1',\n",
    "'21608/상어 초등학교/골드 5',\n",
    "'16927/배열 돌리기 2/골드 5',\n",
    "'17406/배열 돌리기 4/골드 4',\n",
    "'22858/원상 복구 (small)/실버 3',\n",
    "'17128/소가 정보섬에 올라온 이유/실버 3',\n",
    "'15886/내 선물을 받아줘 2/실버 3',\n",
    "'1283/단축키 지정/실버 1',\n",
    "'10703/유성/실버 1',\n",
    "'9081/단어 맞추기/실버 1']\n",
    "\n",
    "for i in aa:\n",
    "    a, b, c = i.split('/')\n",
    "    name = a+'_'+b\n",
    "    level = c\n",
    "    git_b = b.replace(' ', '%20')\n",
    "    git_name = f'백준_{a}_{git_b}_0301.md'\n",
    "    \n",
    "    final = f'|{name}|{level}|||[백준](https://www.acmicpc.net/problem/{a})|[깃허브](./{git_name})|'\n",
    "    print(final)"
   ]
  }
 ],
 "metadata": {
  "kernelspec": {
   "display_name": "base",
   "language": "python",
   "name": "python3"
  },
  "language_info": {
   "codemirror_mode": {
    "name": "ipython",
    "version": 3
   },
   "file_extension": ".py",
   "mimetype": "text/x-python",
   "name": "python",
   "nbconvert_exporter": "python",
   "pygments_lexer": "ipython3",
   "version": "3.10.9"
  },
  "orig_nbformat": 4
 },
 "nbformat": 4,
 "nbformat_minor": 2
}
